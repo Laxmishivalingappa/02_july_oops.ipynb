{
 "cells": [
  {
   "cell_type": "code",
   "execution_count": null,
   "id": "59de5a88",
   "metadata": {},
   "outputs": [],
   "source": [
    "1 Explain what inheritance is in object-oriented programming and why it is used.\n",
    "ANS- \n",
    "In object-oriented programming (OOP), inheritance is a fundamental concept that allows a class (also known as the subclass or derived class) to inherit properties and behaviors (i.e., data and methods) from another class (also known as the superclass or base class). The subclass is said to be an \"extension\" of the superclass because it can reuse and build upon the features defined in the superclass.\n",
    "\n",
    "Inheritance creates an \"is-a\" relationship between classes. It means that the subclass is a specialized version of the superclass. This enables developers to model real-world relationships and hierarchies effectively. For instance, consider a superclass called Vehicle that contains properties like color, weight, and methods like start(), stop(). We can then have subclasses like Car, Bike, and Truck, which inherit the properties and methods from the Vehicle class but may have additional specific properties and methods unique to them.\n",
    "\n",
    "Key aspects of inheritance in OOP:\n",
    "    \n",
    "Code Reusability: Inheritance allows the subclass to inherit the code from the superclass. This reduces code duplication, promotes code reuse, and makes the codebase more maintainable and organized.\n",
    "\n",
    "Extensibility: Subclasses can add new features or override existing behaviors inherited from the superclass. This allows the developers to customize the behavior of a class without modifying the original class, promoting the \"Open-Closed Principle\" of software design.\n",
    "\n",
    "Polymorphism: Since subclasses can be treated as their superclass, polymorphism is achieved. This means that objects of different subclasses can be used interchangeably if they share a common superclass, which facilitates flexibility and abstraction.\n",
    "\n",
    "Hierarchical Organization: Inheritance facilitates the creation of hierarchical class structures, which closely resemble the natural relationships between entities in many systems.\n",
    "\n",
    "Here's a simple example in Python to illustrate inheritance:\n"
   ]
  },
  {
   "cell_type": "code",
   "execution_count": 1,
   "id": "139652ce",
   "metadata": {},
   "outputs": [
    {
     "name": "stdout",
     "output_type": "stream",
     "text": [
      "Woof!\n",
      "Meow!\n"
     ]
    }
   ],
   "source": [
    "class Animal:\n",
    "    def speak(self):\n",
    "        return \"Animal speaks.\"\n",
    "\n",
    "class Dog(Animal):\n",
    "    def speak(self):\n",
    "        return \"Woof!\"\n",
    "\n",
    "class Cat(Animal):\n",
    "    def speak(self):\n",
    "        return \"Meow!\"\n",
    "\n",
    "# Using inheritance\n",
    "dog = Dog()\n",
    "print(dog.speak())  \n",
    "\n",
    "cat = Cat()\n",
    "print(cat.speak())  \n"
   ]
  },
  {
   "cell_type": "code",
   "execution_count": null,
   "id": "8e223ab6",
   "metadata": {},
   "outputs": [],
   "source": [
    "2 Discuss the concept of single inheritance and multiple inheritance, highlighting their\n",
    "differences and advantages.\n",
    "ANS: Single Inheritance and Multiple Inheritance are two different approaches to class inheritance in object-oriented programming. Let's discuss each of them, highlighting their differences and advantages:\n",
    "\n",
    "Single Inheritance:\n",
    "Single Inheritance is a type of inheritance where a class can inherit from only one base class. In other words, a subclass can have only one direct superclass. This means that the class hierarchy forms a linear structure, with each subclass extending a single parent class.\n",
    "\n",
    "Example:"
   ]
  },
  {
   "cell_type": "code",
   "execution_count": 3,
   "id": "22aa1145",
   "metadata": {},
   "outputs": [],
   "source": [
    "class Animal:\n",
    "    def speak(self):\n",
    "        print(\"Animal speaks\")\n",
    "\n",
    "class Dog(Animal):\n",
    "    def bark(self):\n",
    "        print(\"Woof!\")\n"
   ]
  },
  {
   "cell_type": "code",
   "execution_count": null,
   "id": "d98f02fe",
   "metadata": {},
   "outputs": [],
   "source": [
    "Advantages of Single Inheritance:\n",
    "\n",
    "a. Simplicity: Single Inheritance results in a straightforward and easy-to-understand class hierarchy. It avoids complexities that might arise from multiple inheritance, such as the \"diamond problem\" (discussed later).\n",
    "\n",
    "b. Encapsulation: The linear nature of single inheritance helps in maintaining encapsulation. Each class has a clear and direct relationship with its immediate superclass.\n",
    "\n",
    "Multiple Inheritance:\n",
    "Multiple Inheritance is a type of inheritance where a class can inherit from more than one base class. In this case, a subclass can have multiple direct superclasses. This allows the subclass to combine features from different classes, leading to a more flexible class hierarchy."
   ]
  },
  {
   "cell_type": "code",
   "execution_count": 4,
   "id": "cdaa5378",
   "metadata": {},
   "outputs": [],
   "source": [
    "class Flyer:\n",
    "    def fly(self):\n",
    "        print(\"Flying high\")\n",
    "\n",
    "class Swimmer:\n",
    "    def swim(self):\n",
    "        print(\"Swimming gracefully\")\n",
    "\n",
    "class Duck(Flyer, Swimmer):\n",
    "    def quack(self):\n",
    "        print(\"Quack, quack!\")\n"
   ]
  },
  {
   "cell_type": "code",
   "execution_count": null,
   "id": "20529735",
   "metadata": {},
   "outputs": [],
   "source": [
    "3 Explain the terms \"base class\" and \"derived class\" in the context of inheritance.\n",
    "ANS:  In object-oriented programming (OOP), inheritance is a fundamental concept that allows one class to inherit the properties and behaviors (i.e., fields and methods) of another class. In this context, we often refer to two important terms: \"base class\" and \"derived class.\"\n",
    "\n",
    "Base Class:\n",
    "A base class, also known as a superclass or parent class, is the class from which other classes inherit properties and behaviors. It serves as a blueprint for creating other classes. The base class contains common attributes and methods that can be reused by its derived classes. By defining functionality in a base class, you can avoid duplicating code in multiple places and promote code reusability."
   ]
  },
  {
   "cell_type": "code",
   "execution_count": 1,
   "id": "c4ad8f00",
   "metadata": {},
   "outputs": [],
   "source": [
    "class Animal:\n",
    "    def __init__(self, name):\n",
    "        self.name = name\n",
    "\n",
    "    def make_sound(self):\n",
    "        print(\"Some generic sound\")\n",
    "\n",
    "# Here, \"Animal\" is the base class.\n"
   ]
  },
  {
   "cell_type": "code",
   "execution_count": null,
   "id": "dfaf72c7",
   "metadata": {},
   "outputs": [],
   "source": [
    "Derived Class:\n",
    "A derived class, also known as a subclass or child class, is a class that inherits properties and behaviors from the base class. It extends or specializes the functionalities of the base class by adding new attributes or methods or by overriding existing ones. A derived class can have its own unique attributes and methods in addition to those inherited from the base class.\n",
    "Example:"
   ]
  },
  {
   "cell_type": "code",
   "execution_count": 2,
   "id": "9118b368",
   "metadata": {},
   "outputs": [],
   "source": [
    "class Dog(Animal):\n",
    "    def __init__(self, name, breed):\n",
    "        # Call the constructor of the base class to initialize the \"name\" attribute\n",
    "        super().__init__(name)\n",
    "        self.breed = breed\n",
    "\n",
    "    def make_sound(self):\n",
    "        print(\"Woof! Woof!\")\n",
    "\n",
    "# Here, \"Dog\" is the derived class, and it inherits from the \"Animal\" base class.\n"
   ]
  },
  {
   "cell_type": "code",
   "execution_count": null,
   "id": "b6e626a7",
   "metadata": {},
   "outputs": [],
   "source": [
    "4 What is the significance of the \"protected\" access modifier in inheritance? How does\n",
    "it differ from \"private\" and \"public\" modifiers?\n",
    "\n",
    "\n",
    "ANS : In object-oriented programming, access modifiers (also known as access specifiers) determine the visibility and accessibility of class members (fields and methods) from outside the class. In many programming languages like Python, C++, and Java, there are three common access modifiers: \"private,\" \"protected,\" and \"public.\" The significance of the \"protected\" access modifier in inheritance lies in its impact on the visibility of class members within derived classes.\n",
    "\n",
    "Private Access Modifier:\n",
    "When a class member is marked as \"private,\" it can only be accessed within the class where it is defined. Neither the derived classes nor other classes outside the hierarchy can access private members directly. This encapsulation ensures that the internal details and implementation of the class are hidden from the outside world."
   ]
  },
  {
   "cell_type": "code",
   "execution_count": 3,
   "id": "e018e294",
   "metadata": {},
   "outputs": [],
   "source": [
    "class MyClass:\n",
    "    def __init__(self):\n",
    "        self.__private_var = 10  # Private member\n",
    "\n",
    "    def __private_method(self):\n",
    "        print(\"This is a private method.\")\n",
    "\n",
    "# The \"__private_var\" and \"__private_method\" are private members.\n"
   ]
  },
  {
   "cell_type": "code",
   "execution_count": null,
   "id": "2249255a",
   "metadata": {},
   "outputs": [],
   "source": [
    "Protected Access Modifier:\n",
    "In some programming languages like Python, the \"protected\" access modifier is denoted by a single underscore before the member's name (e.g., _protected_var). However, it's important to note that in Python, the \"protected\" access modifier is more of a naming convention rather than a strict enforcement, and it relies on developers following the convention for data hiding.\n",
    "A \"protected\" member can be accessed within the class where it is defined and within its derived classes. It means that the member is still hidden from classes outside the hierarchy, but it can be accessed and used by derived classes, allowing them to reuse or modify behavior defined in the base class."
   ]
  },
  {
   "cell_type": "code",
   "execution_count": 4,
   "id": "91e4d87c",
   "metadata": {},
   "outputs": [],
   "source": [
    "class MyBaseClass:\n",
    "    def __init__(self):\n",
    "        self._protected_var = 20  # Protected member\n",
    "\n",
    "    def _protected_method(self):\n",
    "        print(\"This is a protected method.\")\n",
    "\n",
    "# The \"_protected_var\" and \"_protected_method\" are protected members.\n"
   ]
  },
  {
   "cell_type": "code",
   "execution_count": null,
   "id": "90a30384",
   "metadata": {},
   "outputs": [],
   "source": [
    "Public Access Modifier:\n",
    "A class member marked as \"public\" has no access restrictions. It can be accessed from anywhere, including outside the class and its derived classes.\n",
    "\n",
    "\n",
    "class AnotherClass:\n",
    "    def __init__(self):\n",
    "        self.public_var = 30  # Public member\n",
    "\n",
    "    def public_method(self):\n",
    "        print(\"This is a public method.\")\n",
    "\n",
    "# The \"public_var\" and \"public_method\" are public members.\n"
   ]
  },
  {
   "cell_type": "code",
   "execution_count": null,
   "id": "369fd241",
   "metadata": {},
   "outputs": [],
   "source": [
    "5 What is the purpose of the \"super\" keyword in inheritance? Provide an example.\n",
    "ANS:\n",
    "    The \"super\" keyword in inheritance is used to call and invoke the methods of the base class (also known as the superclass or parent class) from within a derived class (also known as the subclass or child class). It allows the derived class to extend or override the functionalities of the base class while still being able to utilize the behavior defined in the base class. The \"super\" keyword is particularly useful when the derived class needs to perform additional actions on top of what the base class does, rather than completely replacing its functionality.\n",
    "\n",
    "The syntax for using the \"super\" keyword is language-specific, but the general idea is to call the \"super\" keyword followed by the method you want to invoke, passing the current instance (i.e., \"self\" in Python) as an argument.\n",
    "\n",
    "Let's illustrate the usage of the \"super\" keyword with a Python example:"
   ]
  },
  {
   "cell_type": "code",
   "execution_count": 5,
   "id": "36c2808d",
   "metadata": {},
   "outputs": [
    {
     "name": "stdout",
     "output_type": "stream",
     "text": [
      "Some generic sound\n",
      "Woof! Woof!\n"
     ]
    }
   ],
   "source": [
    "class Animal:\n",
    "    def __init__(self, name):\n",
    "        self.name = name\n",
    "\n",
    "    def make_sound(self):\n",
    "        print(\"Some generic sound\")\n",
    "\n",
    "class Dog(Animal):\n",
    "    def __init__(self, name, breed):\n",
    "        # Call the constructor of the base class using \"super\"\n",
    "        super().__init__(name)\n",
    "        self.breed = breed\n",
    "\n",
    "    def make_sound(self):\n",
    "        # Call the \"make_sound\" method of the base class using \"super\"\n",
    "        super().make_sound()\n",
    "        print(\"Woof! Woof!\")\n",
    "\n",
    "# Create an instance of the \"Dog\" class and call its methods\n",
    "doggo = Dog(\"Buddy\", \"Labrador\")\n",
    "doggo.make_sound()\n"
   ]
  },
  {
   "cell_type": "code",
   "execution_count": null,
   "id": "6abf1478",
   "metadata": {},
   "outputs": [],
   "source": [
    "6 Create a base class called \"Vehicle\" with attributes like \"make\", \"model\", and \"year\".\n",
    "Then, create a derived class called \"Car\" that inherits from \"Vehicle\" and adds an\n",
    "attribute called \"fuel_type\". Implement appropriate methods in both classes.\n",
    "ANS :"
   ]
  },
  {
   "cell_type": "code",
   "execution_count": 7,
   "id": "e7fe35ef",
   "metadata": {},
   "outputs": [
    {
     "name": "stdout",
     "output_type": "stream",
     "text": [
      "Make: Toyota, Model: Corolla, Year: 2022\n",
      "Fuel Type: Gasoline\n",
      "Make: Tesla, Model: Model 3, Year: 2023\n",
      "Fuel Type: Electric\n"
     ]
    }
   ],
   "source": [
    "class Vehicle:\n",
    "    def __init__(self, make, model, year):\n",
    "        self.make = make\n",
    "        self.model = model\n",
    "        self.year = year\n",
    "\n",
    "    def display_info(self):\n",
    "        print(f\"Make: {self.make}, Model: {self.model}, Year: {self.year}\")\n",
    "\n",
    "class Car(Vehicle):\n",
    "    def __init__(self, make, model, year, fuel_type):\n",
    "        # Call the constructor of the base class using \"super\"\n",
    "        super().__init__(make, model, year)\n",
    "        self.fuel_type = fuel_type\n",
    "\n",
    "    def display_info(self):\n",
    "        super().display_info()  # Call the display_info method of the base class\n",
    "        print(f\"Fuel Type: {self.fuel_type}\")\n",
    "\n",
    "# Create instances of the \"Car\" class and call its methods\n",
    "car1 = Car(\"Toyota\", \"Corolla\", 2022, \"Gasoline\")\n",
    "car1.display_info()\n",
    "\n",
    "car2 = Car(\"Tesla\", \"Model 3\", 2023, \"Electric\")\n",
    "car2.display_info()\n"
   ]
  },
  {
   "cell_type": "code",
   "execution_count": null,
   "id": "75a4843b",
   "metadata": {},
   "outputs": [],
   "source": [
    "7 Create a base class called \"Employee\" with attributes like \"name\" and \"salary.\"\n",
    "Derive two classes, \"Manager\" and \"Developer,\" from \"Employee.\" Add an additional\n",
    "attribute called \"department\" for the \"Manager\" class and \"programming_language\"\n",
    "for the \"Developer\" class."
   ]
  },
  {
   "cell_type": "code",
   "execution_count": 12,
   "id": "a8040b66",
   "metadata": {},
   "outputs": [
    {
     "name": "stdout",
     "output_type": "stream",
     "text": [
      "Name: John Doe, Salary: $80000\n",
      "Department: Marketing\n",
      "Name: Jane Smith, Salary: $70000\n",
      "Programming Language: Python\n"
     ]
    }
   ],
   "source": [
    "class Employee:\n",
    "    def __init__(self, name, salary):\n",
    "        self.name = name\n",
    "        self.salary = salary\n",
    "\n",
    "    def display_info(self):\n",
    "        print(f\"Name: {self.name}, Salary: ${self.salary}\")\n",
    "\n",
    "class Manager(Employee):\n",
    "    def __init__(self, name, salary, department):\n",
    "        # Call the constructor of the base class using \"super\"\n",
    "        super().__init__(name, salary)\n",
    "        self.department = department\n",
    "\n",
    "    def display_info(self):\n",
    "        super().display_info()  # Call the display_info method of the base class\n",
    "        print(f\"Department: {self.department}\")\n",
    "\n",
    "class Developer(Employee):\n",
    "    def __init__(self, name, salary, programming_language):\n",
    "        # Call the constructor of the base class using \"super\"\n",
    "        super().__init__(name, salary)\n",
    "        self.programming_language = programming_language\n",
    "\n",
    "    def display_info(self):\n",
    "        super().display_info()  # Call the display_info method of the base class\n",
    "        print(f\"Programming Language: {self.programming_language}\")\n",
    "\n",
    "# Create instances of the \"Manager\" and \"Developer\" classes and call their methods\n",
    "manager1 = Manager(\"John Doe\", 80000, \"Marketing\")\n",
    "manager1.display_info()\n",
    "\n",
    "developer1 = Developer(\"Jane Smith\", 70000, \"Python\")\n",
    "developer1.display_info()\n"
   ]
  },
  {
   "cell_type": "code",
   "execution_count": null,
   "id": "11f0d79c",
   "metadata": {},
   "outputs": [],
   "source": [
    "8 Design a base class called \"Shape\" with attributes like \"colour\" and \"border_width.\"\n",
    "Create derived classes, \"Rectangle\" and \"Circle,\" that inherit from \"Shape\" and add\n",
    "specific attributes like \"length\" and \"width\" for the \"Rectangle\" class and \"radius\" for\n",
    "the \"Circle\" class."
   ]
  },
  {
   "cell_type": "code",
   "execution_count": 13,
   "id": "fe17c358",
   "metadata": {},
   "outputs": [
    {
     "name": "stdout",
     "output_type": "stream",
     "text": [
      "Colour: Red, Border Width: 2\n",
      "Length: 10, Width: 5\n",
      "Colour: Blue, Border Width: 1\n",
      "Radius: 7\n"
     ]
    }
   ],
   "source": [
    "class Shape:\n",
    "    def __init__(self, colour, border_width):\n",
    "        self.colour = colour\n",
    "        self.border_width = border_width\n",
    "\n",
    "    def display_info(self):\n",
    "        print(f\"Colour: {self.colour}, Border Width: {self.border_width}\")\n",
    "\n",
    "class Rectangle(Shape):\n",
    "    def __init__(self, colour, border_width, length, width):\n",
    "        # Call the constructor of the base class using \"super\"\n",
    "        super().__init__(colour, border_width)\n",
    "        self.length = length\n",
    "        self.width = width\n",
    "\n",
    "    def display_info(self):\n",
    "        super().display_info()  # Call the display_info method of the base class\n",
    "        print(f\"Length: {self.length}, Width: {self.width}\")\n",
    "\n",
    "class Circle(Shape):\n",
    "    def __init__(self, colour, border_width, radius):\n",
    "        # Call the constructor of the base class using \"super\"\n",
    "        super().__init__(colour, border_width)\n",
    "        self.radius = radius\n",
    "\n",
    "    def display_info(self):\n",
    "        super().display_info()  # Call the display_info method of the base class\n",
    "        print(f\"Radius: {self.radius}\")\n",
    "\n",
    "# Create instances of the \"Rectangle\" and \"Circle\" classes and call their methods\n",
    "rectangle1 = Rectangle(\"Red\", 2, 10, 5)\n",
    "rectangle1.display_info()\n",
    "\n",
    "circle1 = Circle(\"Blue\", 1, 7)\n",
    "circle1.display_info()\n"
   ]
  },
  {
   "cell_type": "code",
   "execution_count": null,
   "id": "a077d5fc",
   "metadata": {},
   "outputs": [],
   "source": [
    "9 Create a base class called \"Device\" with attributes like \"brand\" and \"model.\" Derive\n",
    "two classes, \"Phone\" and \"Tablet,\" from \"Device.\" Add specific attributes like\n",
    "\"screen_size\" for the \"Phone\" class and \"battery_capacity\" for the \"Tablet\" class."
   ]
  },
  {
   "cell_type": "code",
   "execution_count": 14,
   "id": "07506469",
   "metadata": {},
   "outputs": [
    {
     "name": "stdout",
     "output_type": "stream",
     "text": [
      "Brand: Apple, Model: iPhone 13\n",
      "Screen Size: 6.1 inches\n",
      "Brand: Samsung, Model: Galaxy Tab S7\n",
      "Battery Capacity: 8000 mAh\n"
     ]
    }
   ],
   "source": [
    "class Device:\n",
    "    def __init__(self, brand, model):\n",
    "        self.brand = brand\n",
    "        self.model = model\n",
    "\n",
    "    def display_info(self):\n",
    "        print(f\"Brand: {self.brand}, Model: {self.model}\")\n",
    "\n",
    "class Phone(Device):\n",
    "    def __init__(self, brand, model, screen_size):\n",
    "        # Call the constructor of the base class using \"super\"\n",
    "        super().__init__(brand, model)\n",
    "        self.screen_size = screen_size\n",
    "\n",
    "    def display_info(self):\n",
    "        super().display_info()  # Call the display_info method of the base class\n",
    "        print(f\"Screen Size: {self.screen_size} inches\")\n",
    "\n",
    "class Tablet(Device):\n",
    "    def __init__(self, brand, model, battery_capacity):\n",
    "        # Call the constructor of the base class using \"super\"\n",
    "        super().__init__(brand, model)\n",
    "        self.battery_capacity = battery_capacity\n",
    "\n",
    "    def display_info(self):\n",
    "        super().display_info()  # Call the display_info method of the base class\n",
    "        print(f\"Battery Capacity: {self.battery_capacity} mAh\")\n",
    "\n",
    "# Create instances of the \"Phone\" and \"Tablet\" classes and call their methods\n",
    "phone1 = Phone(\"Apple\", \"iPhone 13\", 6.1)\n",
    "phone1.display_info()\n",
    "\n",
    "tablet1 = Tablet(\"Samsung\", \"Galaxy Tab S7\", 8000)\n",
    "tablet1.display_info()\n"
   ]
  },
  {
   "cell_type": "code",
   "execution_count": null,
   "id": "f67ad8c3",
   "metadata": {},
   "outputs": [],
   "source": [
    "10. Create a base class called \"BankAccount\" with attributes like \"account_number\" and\n",
    "\"balance.\" Derive two classes, \"SavingsAccount\" and \"CheckingAccount,\" from\n",
    "\"BankAccount.\" Add specific methods like \"calculate_interest\" for the\n",
    "\"SavingsAccount\" class and \"deduct_fees\" for the \"CheckingAccount\" class."
   ]
  },
  {
   "cell_type": "code",
   "execution_count": 15,
   "id": "d03328e5",
   "metadata": {},
   "outputs": [
    {
     "name": "stdout",
     "output_type": "stream",
     "text": [
      "Interest calculated: $15.00\n",
      "Account Number: 123456789, Balance: $1015.00\n",
      "Fees deducted: $10.00\n",
      "Account Number: 987654321, Balance: $1990.00\n"
     ]
    }
   ],
   "source": [
    "class BankAccount:\n",
    "    def __init__(self, account_number, balance):\n",
    "        self.account_number = account_number\n",
    "        self.balance = balance\n",
    "\n",
    "    def display_info(self):\n",
    "        print(f\"Account Number: {self.account_number}, Balance: ${self.balance:.2f}\")\n",
    "\n",
    "class SavingsAccount(BankAccount):\n",
    "    def __init__(self, account_number, balance, interest_rate):\n",
    "        # Call the constructor of the base class using \"super\"\n",
    "        super().__init__(account_number, balance)\n",
    "        self.interest_rate = interest_rate\n",
    "\n",
    "    def calculate_interest(self):\n",
    "        interest_amount = self.balance * (self.interest_rate / 100)\n",
    "        self.balance += interest_amount\n",
    "        print(f\"Interest calculated: ${interest_amount:.2f}\")\n",
    "\n",
    "class CheckingAccount(BankAccount):\n",
    "    def __init__(self, account_number, balance, fee_amount):\n",
    "        # Call the constructor of the base class using \"super\"\n",
    "        super().__init__(account_number, balance)\n",
    "        self.fee_amount = fee_amount\n",
    "\n",
    "    def deduct_fees(self):\n",
    "        self.balance -= self.fee_amount\n",
    "        print(f\"Fees deducted: ${self.fee_amount:.2f}\")\n",
    "\n",
    "# Create instances of the \"SavingsAccount\" and \"CheckingAccount\" classes and call their methods\n",
    "savings_account = SavingsAccount(\"123456789\", 1000, 1.5)\n",
    "savings_account.calculate_interest()\n",
    "savings_account.display_info()\n",
    "\n",
    "checking_account = CheckingAccount(\"987654321\", 2000, 10)\n",
    "checking_account.deduct_fees()\n",
    "checking_account.display_info()\n"
   ]
  },
  {
   "cell_type": "code",
   "execution_count": null,
   "id": "2b8258d9",
   "metadata": {},
   "outputs": [],
   "source": []
  }
 ],
 "metadata": {
  "kernelspec": {
   "display_name": "Python 3 (ipykernel)",
   "language": "python",
   "name": "python3"
  },
  "language_info": {
   "codemirror_mode": {
    "name": "ipython",
    "version": 3
   },
   "file_extension": ".py",
   "mimetype": "text/x-python",
   "name": "python",
   "nbconvert_exporter": "python",
   "pygments_lexer": "ipython3",
   "version": "3.10.9"
  }
 },
 "nbformat": 4,
 "nbformat_minor": 5
}
